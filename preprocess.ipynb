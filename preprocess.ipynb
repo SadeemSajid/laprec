{
 "cells": [
  {
   "cell_type": "code",
   "execution_count": null,
   "metadata": {},
   "outputs": [],
   "source": [
    "import pandas as pd"
   ]
  },
  {
   "cell_type": "code",
   "execution_count": 38,
   "metadata": {},
   "outputs": [],
   "source": [
    "# Reading Data\n",
    "\n",
    "data = pd.read_csv(\"laptops.csv\")\n",
    "\n",
    "# Removing null entries\n",
    "\n",
    "data = data.dropna()\n",
    "\n",
    "# Changing price from INR to PKR\n",
    "# 1 INR = 3.32 PKR\n",
    "\n",
    "def pkr(x):\n",
    "    return int(x * 3.32)\n",
    "\n",
    "data[\"Price\"] = data[\"Price\"].apply(pkr)\n",
    "\n",
    "# Removing unecessary columns\n",
    "\n",
    "data = data.drop(['index', 'num_threads', 'secondary_storage_capacity', 'OS', 'year_of_warranty', 'is_touch_screen'], axis=1)\n",
    "\n",
    "# changing some values for better workflow\n",
    "\n",
    "data.loc[data['secondary_storage_type'] == 'No secondary storage', 'secondary_storage_type'] = 'NONE'\n",
    "\n",
    "# The data is more or less prepared now.\n",
    "\n",
    "data.to_csv('data-cleaned.csv', index=False)"
   ]
  }
 ],
 "metadata": {
  "kernelspec": {
   "display_name": "Python 3",
   "language": "python",
   "name": "python3"
  },
  "language_info": {
   "codemirror_mode": {
    "name": "ipython",
    "version": 3
   },
   "file_extension": ".py",
   "mimetype": "text/x-python",
   "name": "python",
   "nbconvert_exporter": "python",
   "pygments_lexer": "ipython3",
   "version": "3.11.8"
  }
 },
 "nbformat": 4,
 "nbformat_minor": 2
}
